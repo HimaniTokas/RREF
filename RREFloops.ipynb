{
  "nbformat": 4,
  "nbformat_minor": 0,
  "metadata": {
    "kernelspec": {
      "display_name": "Python 3",
      "language": "python",
      "name": "python3"
    },
    "language_info": {
      "codemirror_mode": {
        "name": "ipython",
        "version": 3
      },
      "file_extension": ".py",
      "mimetype": "text/x-python",
      "name": "python",
      "nbconvert_exporter": "python",
      "pygments_lexer": "ipython3",
      "version": "3.8.5"
    },
    "colab": {
      "name": "RREFloops.ipynb",
      "provenance": []
    }
  },
  "cells": [
    {
      "cell_type": "code",
      "metadata": {
        "id": "LY-ZBk1UZaKK"
      },
      "source": [
        "#function to convert matrix into reduced row echelon form\n",
        "\n",
        "def reducedrowechelonform(M):\n",
        "        for i in range(len(M)):#loop to iterate rows\n",
        "            for s in range(len(M[0])):\n",
        "                if i==s:\n",
        "                    if M[i][s] == 0: #checking if diagonals elements are zero\n",
        "                        for i2 in range(i+1, len(M)):  #iterating rows below zero diagonal element\n",
        "                            if M[i2][i2] != 0:\n",
        "                                for k in range(len(M[0])): #loop to iterate columns\n",
        "                                    M[i][k],M[i2][k] = M[i2][k],M[i][k] #swapping row with zero diagonal element with other row\n",
        "                            break\n",
        "                    else:\n",
        "                        exit(0)\n",
        "            for t in range(len(M[0])):\n",
        "                if i==t:\n",
        "                    if M[i][t]!=1: #making diagonal elements 1\n",
        "                        factor=M[i][i]\n",
        "                        for k3 in range(len(M[0])):\n",
        "                            M[i][k3]=M[i][k3]/factor\n",
        "            for j in range(i+1, len(M)):  # making lower triangle zero\n",
        "                factor = M[j][i]/M[i][i]\n",
        "                for k2 in range(len(M[0])):\n",
        "                    M[j][k2] = M[j][k2] - M[i][k2]*factor\n",
        "            # print pivot\n",
        "            for z in range(len(M[0])):\n",
        "                if z==i:\n",
        "                    if M[z][i]==1:\n",
        "                        print(\"PIVOT\", i+1,\"IN ROW\", i+1,\",Column\",z+1)\n",
        "            # to make elements above diagonal zero\n",
        "            for l in range(len(M[0])):\n",
        "                if i==l:\n",
        "                    for u in reversed(range(i)):\n",
        "                        if M[u][l]!=0:\n",
        "                            for v in range(len(M[0])):\n",
        "                                subtract=M[i][v]*M[u][l]\n",
        "                                M[u][l]-=subtract\n",
        "                    \n",
        "        return(M)           \n",
        "\n"
      ],
      "execution_count": 2,
      "outputs": []
    },
    {
      "cell_type": "code",
      "metadata": {
        "colab": {
          "base_uri": "https://localhost:8080/"
        },
        "id": "YF78SpgKZaKM",
        "outputId": "2e8ca3f5-819e-42ee-acd2-c1e26d448ab5"
      },
      "source": [
        "R = int(input(\"Enter the number of rows:\")) \n",
        "C = int(input(\"Enter the number of columns:\"))\n",
        "\n",
        "if R == 0 or C == 0:   \n",
        "    print(\"Not a matrix, Rows and Columns should be greater than 1: \")\n",
        "    \n",
        "# Initialize matrix \n",
        "matrix = [] \n",
        "print(\"Enter the entries rowwise:\") \n",
        "  \n",
        "# user input    \n",
        "for i in range(R):\n",
        "    print('entering elements of row', i+1)        \n",
        "    row = []                                      \n",
        "    for j in range(C):\n",
        "        element = int(input('enter element: '))   \n",
        "        row.append(element)                       \n",
        "    matrix.append(row)\n",
        "\n",
        "print()   # give an open print space otherwise output looks messy\n",
        "\n",
        "# For printing the matrix \n",
        "for i in range(R): \n",
        "    for j in range(C): \n",
        "        print(matrix[i][j], end = \" \") \n",
        "    print()\n"
      ],
      "execution_count": null,
      "outputs": [
        {
          "output_type": "stream",
          "text": [
            "Enter the number of rows:5\n",
            "Enter the number of columns:7\n",
            "Enter the entries rowwise:\n",
            "entering elements of row 1\n",
            "enter element: 3\n",
            "enter element: 11\n",
            "enter element: 17\n",
            "enter element: 3\n",
            "enter element: 90\n",
            "enter element: 54\n",
            "enter element: 32\n",
            "entering elements of row 2\n",
            "enter element: 1\n",
            "enter element: 5\n",
            "enter element: 8\n",
            "enter element: 91\n",
            "enter element: 2\n",
            "enter element: 2\n",
            "enter element: 25\n",
            "entering elements of row 3\n",
            "enter element: 11\n",
            "enter element: 17\n",
            "enter element: 28\n",
            "enter element: 52\n",
            "enter element: 4\n",
            "enter element: 2\n",
            "enter element: 78\n",
            "entering elements of row 4\n",
            "enter element: 7\n",
            "enter element: 9\n",
            "enter element: 8\n",
            "enter element: 11\n",
            "enter element: 23\n",
            "enter element: 12\n",
            "enter element: 19\n",
            "entering elements of row 5\n",
            "enter element: 89\n",
            "enter element: 4\n",
            "enter element: 42\n",
            "enter element: 23\n",
            "enter element: 38\n",
            "enter element: 5\n",
            "enter element: 43\n",
            "\n",
            "3 11 17 3 90 54 32 \n",
            "1 5 8 91 2 2 25 \n",
            "11 17 28 52 4 2 78 \n",
            "7 9 8 11 23 12 19 \n",
            "89 4 42 23 38 5 43 \n"
          ],
          "name": "stdout"
        }
      ]
    },
    {
      "cell_type": "code",
      "metadata": {
        "colab": {
          "base_uri": "https://localhost:8080/"
        },
        "id": "mCtbEOo6ZaKN",
        "outputId": "8201fe5a-ce10-4b69-fc65-dc44de4cc1fc"
      },
      "source": [
        "reducedrowechelonform(matrix)\n",
        "print(\"Reduced row echelon form: \")\n",
        "for i in range(R): \n",
        "    for j in range(C): \n",
        "        print(round(matrix[i][j],2), end = \" \") \n",
        "    print()\n",
        "#does not work for 3*3=1,2,3,4,5,6,7,8,9  division by zero error"
      ],
      "execution_count": null,
      "outputs": [
        {
          "output_type": "stream",
          "text": [
            "PIVOT 1 IN ROW 1 ,Column 1\n",
            "PIVOT 2 IN ROW 2 ,Column 2\n",
            "PIVOT 3 IN ROW 3 ,Column 3\n",
            "PIVOT 4 IN ROW 4 ,Column 4\n",
            "PIVOT 5 IN ROW 5 ,Column 5\n",
            "Reduced row echelon form: \n",
            "1.0 0.0 0.0 0.0 0.0 18.0 10.67 \n",
            "0.0 1.0 0.0 0.0 0.0 -12.0 10.75 \n",
            "0.0 0.0 1.0 0.0 0.0 -73.23 32.54 \n",
            "0.0 0.0 0.0 1.0 0.0 -0.28 0.12 \n",
            "0.0 0.0 0.0 0.0 1.0 0.59 -0.2 \n"
          ],
          "name": "stdout"
        }
      ]
    },
    {
      "cell_type": "markdown",
      "metadata": {
        "id": "Yf6WXr-tZaKO"
      },
      "source": [
        "Regression Problem: A programmer is writing a code for a video game. The price of the game y is based on the following equation: y=c0+c1x1+c2x2+c3x3+c4x4+c5x5+c6x6. Where c0,c1,c2...c6 are linear parameters. x1,x2,...,x6 are factors such as lines of code, numbers of hours it took to make the program, cost of the software licences bought to make the game, number of stages, least the number of bugs more the price. x6 depend on the junior programmer's stipend that the programmer have hired. \n"
      ]
    },
    {
      "cell_type": "code",
      "metadata": {
        "colab": {
          "base_uri": "https://localhost:8080/"
        },
        "id": "VQwsOBr5ZaKO",
        "outputId": "e6b67fb2-64a6-479a-c7dd-c9d1aa8b1616"
      },
      "source": [
        "import numpy as np\n",
        "array=np.random.randint(90,size=(4,6))\n",
        "print(array)\n",
        "reducedrowechelonform(array)\n",
        "print()\n",
        "print(\"Linear Regression Solution: \")\n",
        "print(array)"
      ],
      "execution_count": null,
      "outputs": [
        {
          "output_type": "stream",
          "text": [
            "[[77 65 42 41  5 24]\n",
            " [34 59 48 77 63 85]\n",
            " [48 77 86 52 81 56]\n",
            " [43 55 34 85 21 83]]\n",
            "PIVOT 1 IN ROW 1 ,Column 1\n",
            "PIVOT 2 IN ROW 2 ,Column 2\n",
            "PIVOT 3 IN ROW 3 ,Column 3\n",
            "PIVOT 4 IN ROW 4 ,Column 4\n",
            "\n",
            "Linear Regression Solution: \n",
            "[[ 1  0  0  0  0  0]\n",
            " [ 0  1  0  0  1  1]\n",
            " [ 0  0  1  0  0  0]\n",
            " [ 0  0  0  1 -1  0]]\n"
          ],
          "name": "stdout"
        }
      ]
    },
    {
      "cell_type": "markdown",
      "metadata": {
        "id": "jKLPkMddZaKP"
      },
      "source": [
        "Incosistency- model breaks\n",
        "\n",
        "Acknowledgment-\n",
        "\n",
        "1. Guided by Akash Gupta, PGDM-2021\n",
        "2. Machine learning class notes, Rakesh Nigam\n",
        "3. Discussed with- Sahana, Vamsi, Navin, Palak"
      ]
    },
    {
      "cell_type": "code",
      "metadata": {
        "id": "PNv4TVNlZaKQ"
      },
      "source": [
        ""
      ],
      "execution_count": null,
      "outputs": []
    }
  ]
}